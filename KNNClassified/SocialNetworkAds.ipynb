{
  "cells": [
    {
      "cell_type": "markdown",
      "metadata": {
        "colab_type": "text",
        "id": "view-in-github"
      },
      "source": [
        "<a href=\"https://colab.research.google.com/github/zalllrizalll/DataMining/blob/main/KNNClassified/SocialNetworkAds.ipynb\" target=\"_parent\"><img src=\"https://colab.research.google.com/assets/colab-badge.svg\" alt=\"Open In Colab\"/></a>"
      ]
    },
    {
      "cell_type": "markdown",
      "metadata": {
        "id": "BBRycJQToXqm"
      },
      "source": [
        "Import beberapa library yang dibutuhkan"
      ]
    },
    {
      "cell_type": "code",
      "execution_count": 9,
      "metadata": {
        "id": "I3QslfWYmoc8"
      },
      "outputs": [],
      "source": [
        "import numpy as np # Komputasi Matrix\n",
        "import matplotlib.pyplot as plt # Representasi data ke dalam bentuk grafik\n",
        "import pandas as pd # Mengambil atau mengimport data dari luar seperti file.csv"
      ]
    },
    {
      "cell_type": "markdown",
      "metadata": {
        "id": "C9-dyIv1poBi"
      },
      "source": [
        "Import file csv"
      ]
    },
    {
      "cell_type": "code",
      "execution_count": 10,
      "metadata": {
        "id": "2IGCzcmHpZ2c"
      },
      "outputs": [],
      "source": [
        "dataset = pd.read_csv('Social Network Ads.csv') # Function read_csv() -> membaca file csv"
      ]
    },
    {
      "cell_type": "markdown",
      "metadata": {
        "id": "QwRc-LVtpzsQ"
      },
      "source": [
        "Uji Coba Menampilkan 5 Data Teratas"
      ]
    },
    {
      "cell_type": "code",
      "execution_count": 11,
      "metadata": {
        "colab": {
          "base_uri": "https://localhost:8080/",
          "height": 206
        },
        "id": "AmJro3Ikp76W",
        "outputId": "888fe022-a3b4-48e5-d7fd-af9f3c66eafb"
      },
      "outputs": [
        {
          "data": {
            "text/html": [
              "<div>\n",
              "<style scoped>\n",
              "    .dataframe tbody tr th:only-of-type {\n",
              "        vertical-align: middle;\n",
              "    }\n",
              "\n",
              "    .dataframe tbody tr th {\n",
              "        vertical-align: top;\n",
              "    }\n",
              "\n",
              "    .dataframe thead th {\n",
              "        text-align: right;\n",
              "    }\n",
              "</style>\n",
              "<table border=\"1\" class=\"dataframe\">\n",
              "  <thead>\n",
              "    <tr style=\"text-align: right;\">\n",
              "      <th></th>\n",
              "      <th>User ID</th>\n",
              "      <th>Gender</th>\n",
              "      <th>Age</th>\n",
              "      <th>EstimatedSalary</th>\n",
              "      <th>Purchased</th>\n",
              "    </tr>\n",
              "  </thead>\n",
              "  <tbody>\n",
              "    <tr>\n",
              "      <th>0</th>\n",
              "      <td>15624510</td>\n",
              "      <td>Male</td>\n",
              "      <td>19</td>\n",
              "      <td>19000</td>\n",
              "      <td>0</td>\n",
              "    </tr>\n",
              "    <tr>\n",
              "      <th>1</th>\n",
              "      <td>15810944</td>\n",
              "      <td>Male</td>\n",
              "      <td>35</td>\n",
              "      <td>20000</td>\n",
              "      <td>0</td>\n",
              "    </tr>\n",
              "    <tr>\n",
              "      <th>2</th>\n",
              "      <td>15668575</td>\n",
              "      <td>Female</td>\n",
              "      <td>26</td>\n",
              "      <td>43000</td>\n",
              "      <td>0</td>\n",
              "    </tr>\n",
              "    <tr>\n",
              "      <th>3</th>\n",
              "      <td>15603246</td>\n",
              "      <td>Female</td>\n",
              "      <td>27</td>\n",
              "      <td>57000</td>\n",
              "      <td>0</td>\n",
              "    </tr>\n",
              "    <tr>\n",
              "      <th>4</th>\n",
              "      <td>15804002</td>\n",
              "      <td>Male</td>\n",
              "      <td>19</td>\n",
              "      <td>76000</td>\n",
              "      <td>0</td>\n",
              "    </tr>\n",
              "  </tbody>\n",
              "</table>\n",
              "</div>"
            ],
            "text/plain": [
              "    User ID  Gender  Age  EstimatedSalary  Purchased\n",
              "0  15624510    Male   19            19000          0\n",
              "1  15810944    Male   35            20000          0\n",
              "2  15668575  Female   26            43000          0\n",
              "3  15603246  Female   27            57000          0\n",
              "4  15804002    Male   19            76000          0"
            ]
          },
          "execution_count": 11,
          "metadata": {},
          "output_type": "execute_result"
        }
      ],
      "source": [
        "dataset.head() # Function head() -> menampilkan 5 data teratas pada sebuah dataset"
      ]
    },
    {
      "cell_type": "code",
      "execution_count": 12,
      "metadata": {
        "id": "4ZeTg3P3qHlA"
      },
      "outputs": [],
      "source": [
        "x = dataset.iloc[:, [2,3]].values # variable x -> representasi dari atribut dataset kolom indeks 2 dan 3\n",
        "y = dataset.iloc[:, -1].values # variable y -> representasi dari sebuah label pada dataset"
      ]
    },
    {
      "cell_type": "markdown",
      "metadata": {
        "id": "kVgeXpVht86P"
      },
      "source": [
        "\n",
        "\n",
        "*   : (Titik Dua) -> representasi ambil nilai semua data\n",
        "*   [2,3] -> representasi atribut kolom indeks 2 dan 3\n",
        "*   [-1] -> representasi label atau kolom indeks terakhir\n",
        "\n",
        "\n",
        "\n"
      ]
    },
    {
      "cell_type": "code",
      "execution_count": null,
      "metadata": {
        "id": "c-WJoMw_ukm0"
      },
      "outputs": [],
      "source": [
        "print(x) # Menampilkan semua data pada atribut kolom indeks 2 dan 3"
      ]
    },
    {
      "cell_type": "code",
      "execution_count": null,
      "metadata": {
        "id": "RFuXPxdDu95F"
      },
      "outputs": [],
      "source": [
        "print(y) # Menampilkan semua data label atau kolom indeks terakhir pada dataset"
      ]
    },
    {
      "cell_type": "markdown",
      "metadata": {
        "id": "evzNmf3cvb_t"
      },
      "source": [
        "Membagi sebuah Dataset menjadi 2 bagian : Data Training dan Data Testing"
      ]
    },
    {
      "cell_type": "markdown",
      "metadata": {
        "id": "3pT17ds1vyR9"
      },
      "source": [
        "Import train_test_split dari library sklearn.model_selection"
      ]
    },
    {
      "cell_type": "code",
      "execution_count": 15,
      "metadata": {
        "id": "CfMvO4__vQLA"
      },
      "outputs": [],
      "source": [
        "from sklearn.model_selection import train_test_split\n",
        "x_train, x_test, y_train, y_test = train_test_split(x, y, test_size=0.25, random_state=0)"
      ]
    },
    {
      "cell_type": "markdown",
      "metadata": {
        "id": "RCIq4BlawhcN"
      },
      "source": [
        "x_train, x_test, y_train, y_test -> Menyiapkan 4 buah variable untuk menampung tiap masing-masing data training dan data testing"
      ]
    },
    {
      "cell_type": "markdown",
      "metadata": {
        "id": "RiYxxS-Xws4N"
      },
      "source": [
        "test_size : Membagi sebagian data pada dataset yang ada untuk kebutuhan data testing"
      ]
    },
    {
      "cell_type": "markdown",
      "metadata": {
        "id": "nKwOqFgox--E"
      },
      "source": [
        "Data Training Atribut Kolom Indeks 2 dan 3"
      ]
    },
    {
      "cell_type": "code",
      "execution_count": null,
      "metadata": {
        "id": "aukZpStgxIBS"
      },
      "outputs": [],
      "source": [
        "print(x_train) # Menampilkan 300 data training atribut kolom indeks ke 2 dan 3 pada dataset"
      ]
    },
    {
      "cell_type": "markdown",
      "metadata": {
        "id": "nyyvWEuLyB4Z"
      },
      "source": [
        "Data Testing Atribut Kolom Indeks 2 dan 3"
      ]
    },
    {
      "cell_type": "code",
      "execution_count": null,
      "metadata": {
        "id": "rwbiiQtExXTK"
      },
      "outputs": [],
      "source": [
        "print(x_test) # Menampilkan 0.25 data atribut kolom indeks ke 2 dan 3 dataset untuk dijadikan data testing "
      ]
    },
    {
      "cell_type": "markdown",
      "metadata": {
        "id": "TQhNu7Ak3ce6"
      },
      "source": [
        "Data Training Atribut Kolom Indeks Terakhir yaitu label"
      ]
    },
    {
      "cell_type": "code",
      "execution_count": null,
      "metadata": {
        "id": "JsES_W04yLGf"
      },
      "outputs": [],
      "source": [
        "print(y_train) # Menampilkan 300 data training atribut kolom indeks terakhir pada dataset yaitu atribut label"
      ]
    },
    {
      "cell_type": "markdown",
      "metadata": {
        "id": "nD7NU0543hC9"
      },
      "source": [
        "Data Testing Atribut Kolom Indeks Terakhir yaitu label"
      ]
    },
    {
      "cell_type": "code",
      "execution_count": null,
      "metadata": {
        "id": "dY05LZvxyOCW"
      },
      "outputs": [],
      "source": [
        "print(y_test) # Menampilkan 0.25 data atribut kolom indeks terakhir pada dataset yaitu atribut label untuk dijadikan data testing"
      ]
    },
    {
      "cell_type": "markdown",
      "metadata": {
        "id": "SJo3gdOVy08g"
      },
      "source": [
        "Menghitung banyaknya data pada tiap masing - masing data training dan data testing"
      ]
    },
    {
      "cell_type": "code",
      "execution_count": null,
      "metadata": {
        "id": "DZvfsfpcy_SK"
      },
      "outputs": [],
      "source": [
        "len(x_train)"
      ]
    },
    {
      "cell_type": "code",
      "execution_count": null,
      "metadata": {
        "id": "nNrgUiuDzFht"
      },
      "outputs": [],
      "source": [
        "len(x_test)"
      ]
    },
    {
      "cell_type": "code",
      "execution_count": null,
      "metadata": {
        "id": "Q_ChwPgdzHTh"
      },
      "outputs": [],
      "source": [
        "len(y_train)"
      ]
    },
    {
      "cell_type": "code",
      "execution_count": null,
      "metadata": {
        "id": "LCCOFsouzJox"
      },
      "outputs": [],
      "source": [
        "len(y_test)"
      ]
    },
    {
      "cell_type": "markdown",
      "metadata": {
        "id": "0tYALJnLzceL"
      },
      "source": [
        "Setelah membagi dataset menjadi Data Training dan Data Testing hal yang perlu dilakukan selanjutnya yaitu :"
      ]
    },
    {
      "cell_type": "markdown",
      "metadata": {
        "id": "jHBcFITQzqGi"
      },
      "source": [
        "Scalling Data -> diperlukan agar jarak antar data tidak terlalu jauh"
      ]
    },
    {
      "cell_type": "markdown",
      "metadata": {
        "id": "lrjlgJsiz_sN"
      },
      "source": [
        "Data yang perlu dilakukan Scalling Data yaitu atribut kolom indeks ke-2 dan ke-3. Atribut pada kolom label tidak perlu dilakukan Scalling Data karena nilai nya hanya berupa 0 dan 1"
      ]
    },
    {
      "cell_type": "code",
      "execution_count": 18,
      "metadata": {
        "id": "Z4nTszkc0dcB"
      },
      "outputs": [],
      "source": [
        "from sklearn.preprocessing import StandardScaler\n",
        "sc = StandardScaler() # variable sc -> menampung function StandardScaler()\n",
        "x_train = sc.fit_transform(x_train)\n",
        "x_test = sc.transform(x_test)"
      ]
    },
    {
      "cell_type": "code",
      "execution_count": null,
      "metadata": {
        "id": "OXiE9kHj06ri"
      },
      "outputs": [],
      "source": [
        "print(x_train) # Menampilan data training yang telah dilakukan Scalling Data pada atribut kolom indeks ke-2 dan ke-3"
      ]
    },
    {
      "cell_type": "code",
      "execution_count": null,
      "metadata": {
        "id": "RgQAWl-B08qi"
      },
      "outputs": [],
      "source": [
        "print(x_test)  # Menampilan data testing yang telah dilakukan Scalling Data pada atribut kolom indeks ke-2 dan ke-3"
      ]
    },
    {
      "cell_type": "markdown",
      "metadata": {
        "id": "iY5-OZxF1ex9"
      },
      "source": [
        "Memanggil Function KNN"
      ]
    },
    {
      "cell_type": "code",
      "execution_count": null,
      "metadata": {
        "id": "1sRPurJc1iAP"
      },
      "outputs": [],
      "source": [
        "from sklearn.neighbors import KNeighborsClassifier # Import library sklearn.neighbors untuk memanggil function KNeighborsClassifier\n",
        "classifier = KNeighborsClassifier(n_neighbors=5, metric='minkowski', p=2)\n",
        "classifier.fit(x_train, y_train)"
      ]
    },
    {
      "cell_type": "markdown",
      "metadata": {
        "id": "cuXPFtBQ2Pmn"
      },
      "source": [
        "*   KNeighborsClassifier -> Function Algoritma KNN\n",
        "*   n_neighbors : banyaknya data tetangga terdekat\n",
        "*   metric = 'minkowski' -> algoritma yang disarankan untuk mencari data yang terdekat\n",
        "\n",
        "\n",
        "\n",
        "\n"
      ]
    },
    {
      "cell_type": "markdown",
      "metadata": {
        "id": "0DrWLljp3BMZ"
      },
      "source": [
        "Menentukan Prediksi dari Data Testing"
      ]
    },
    {
      "cell_type": "code",
      "execution_count": 22,
      "metadata": {
        "id": "GFuF-OKC3Atb"
      },
      "outputs": [],
      "source": [
        "y_pred = classifier.predict(x_test)"
      ]
    },
    {
      "cell_type": "markdown",
      "metadata": {
        "id": "yrrFDfe23nVf"
      },
      "source": [
        "Evaluasi dan Validasi"
      ]
    },
    {
      "cell_type": "code",
      "execution_count": 23,
      "metadata": {
        "colab": {
          "base_uri": "https://localhost:8080/"
        },
        "id": "w2JSk4_g3p1n",
        "outputId": "189b959b-eb05-4a8b-817c-b49b5002c48a"
      },
      "outputs": [
        {
          "name": "stdout",
          "output_type": "stream",
          "text": [
            "[[64  4]\n",
            " [ 3 29]]\n"
          ]
        }
      ],
      "source": [
        "from sklearn.metrics import confusion_matrix # Import library sklearn.metrics untuk memanggil function confusion_matrix\n",
        "cm = confusion_matrix(y_test, y_pred) # variable cm -> menampung perhitungan matrix untuk y_test dan y_pred\n",
        "print(cm)"
      ]
    },
    {
      "cell_type": "markdown",
      "metadata": {
        "id": "cg6sQltj48H4"
      },
      "source": [
        "*   Matrix[0,0] -> Data yang diprediksi benar dan hasilnya memang benar\n",
        "*   Matrix[0,1] -> Data yang diprediksi kurang tepat\n",
        "*   Matrix[1,0] -> Data yang diprediksi kurang tepat\n",
        "*   Matrix[1,1] -> Data yang diprediksi salah dan hasilnya memang salah\n",
        "\n",
        "\n",
        "\n"
      ]
    },
    {
      "cell_type": "markdown",
      "metadata": {
        "id": "V3MEHVLJ6fs5"
      },
      "source": [
        "Menampilkan Akurasi yang Lebih Detail"
      ]
    },
    {
      "cell_type": "code",
      "execution_count": 24,
      "metadata": {
        "colab": {
          "base_uri": "https://localhost:8080/"
        },
        "id": "jucBr7k06lQB",
        "outputId": "e4952280-0916-426b-8a94-0875ebe96a18"
      },
      "outputs": [
        {
          "name": "stdout",
          "output_type": "stream",
          "text": [
            "              precision    recall  f1-score   support\n",
            "\n",
            "           0       0.96      0.94      0.95        68\n",
            "           1       0.88      0.91      0.89        32\n",
            "\n",
            "    accuracy                           0.93       100\n",
            "   macro avg       0.92      0.92      0.92       100\n",
            "weighted avg       0.93      0.93      0.93       100\n",
            "\n"
          ]
        }
      ],
      "source": [
        "from sklearn.metrics import classification_report # Import library sklearn.metrics untuk memanggil function classification_report\n",
        "akurasi = classification_report(y_test, y_pred) # Variable akurasi -> menampung perhitungan data classification_report()\n",
        "print(akurasi)"
      ]
    },
    {
      "cell_type": "code",
      "execution_count": 26,
      "metadata": {
        "colab": {
          "base_uri": "https://localhost:8080/"
        },
        "id": "kL1k6ICs7o86",
        "outputId": "158a352e-cba3-4797-afc2-57a5166b5d40"
      },
      "outputs": [
        {
          "name": "stdout",
          "output_type": "stream",
          "text": [
            "prediksi benar   :  93 data\n",
            "prediksi salah   :  7 data\n",
            "akurasi          :  93.0 %\n"
          ]
        }
      ],
      "source": [
        "from sklearn.metrics import accuracy_score # Import library sklearn.metrics untuk memanggil function accuracy_score\n",
        "ac = accuracy_score(y_test, y_pred) # Variable akurasi -> menampung perhitungan data accuracy_score\n",
        "print(\"prediksi benar   : \", cm[0,0]+cm[1,1], \"data\")\n",
        "print(\"prediksi salah   : \", cm[0,1]+cm[1,0], \"data\")\n",
        "print(\"akurasi          : \", ac*100, \"%\")"
      ]
    },
    {
      "cell_type": "markdown",
      "metadata": {
        "id": "qztbQ-Nu9LH4"
      },
      "source": [
        "Visualisasi Data Training menggunakan Grafik"
      ]
    },
    {
      "cell_type": "code",
      "execution_count": 27,
      "metadata": {
        "colab": {
          "base_uri": "https://localhost:8080/",
          "height": 527
        },
        "id": "s6b7DnK09Kpa",
        "outputId": "bd5165ec-849a-4061-901a-defd9fd777ae"
      },
      "outputs": [
        {
          "name": "stderr",
          "output_type": "stream",
          "text": [
            "C:\\Users\\Acer\\AppData\\Local\\Temp\\ipykernel_14484\\3187038901.py:9: UserWarning: *c* argument looks like a single numeric RGB or RGBA sequence, which should be avoided as value-mapping will have precedence in case its length matches with *x* & *y*.  Please use the *color* keyword-argument or provide a 2D array with a single row if you intend to specify the same RGB or RGBA value for all points.\n",
            "  plt.scatter(x_set[y_set == j, 0], x_set[y_set == j, 1], c = ListedColormap(('red','green'))(i), label = j)\n"
          ]
        },
        {
          "data": {
            "image/png": "[encoded data removed]",
            "text/plain": [
              "<Figure size 640x480 with 1 Axes>"
            ]
          },
          "metadata": {},
          "output_type": "display_data"
        }
      ],
      "source": [
        "from matplotlib.colors import ListedColormap # Import library matplotlib.colors untuk memanggil function ListedColorMap\n",
        "x_set, y_set = x_train, y_train \n",
        "x1, x2 = np.meshgrid(np.arange(start = x_set[:, 0].min()-1, stop = x_set[:, 0].max()+1, step = 0.01),\n",
        "                     np.arange(start = x_set[:, 1].min()-1, stop = x_set[:, 0].max()+1, step = 0.01))\n",
        "plt.contourf(x1, x2, classifier.predict(np.array([x1.ravel(), x2.ravel()]).T).reshape(x1.shape), alpha = 0.75, cmap = ListedColormap(('red', 'green')))\n",
        "plt.xlim(x1.min(), x1.max())\n",
        "plt.ylim(x2.min(), x2.max())\n",
        "for i, j in enumerate (np.unique(y_set)):\n",
        "    plt.scatter(x_set[y_set == j, 0], x_set[y_set == j, 1], c = ListedColormap(('red','green'))(i), label = j)\n",
        "plt.title('Klasifikasi Data Training dengan K-Nearest Neighbors')\n",
        "plt.xlabel('Age')\n",
        "plt.ylabel('Estimated Salary')\n",
        "plt.legend()\n",
        "plt.show()"
      ]
    },
    {
      "cell_type": "markdown",
      "metadata": {
        "id": "xjcqpwD_Bqi5"
      },
      "source": [
        "1. Import library matplotlib.colors untuk memanggil function ListedColorMap\n",
        "2. Variable x_set : Menampung value x_train\n",
        "3. Variable y_set : Menampung value y_train\n",
        "4. x1 : Variable menampung value untuk indeks kolom ke-2 yaitu 'Age'\n",
        "5. x2 : Variabel menampung value untuk indeks kolom ke-3 yaitu 'Estimated Salary'\n",
        "6. plt.xlim(x1.min(), x1.max()) -> Mengambil seluruh data yang terdapat pada kolom 'Age'\n",
        "7. plt.ylim(x2.min(), x2.max()) -> Mengambil seluruh data yang terdapat pada kolom 'Estimated Salary'\n",
        "8. plt.show() -> Menampilkan data sebaran menggunakan visualisasi grafik\n",
        "\n"
      ]
    },
    {
      "cell_type": "markdown",
      "metadata": {
        "id": "4-ERXjWSIqIq"
      },
      "source": [
        "Visualisasi Data Testing menggunakan Grafik"
      ]
    },
    {
      "cell_type": "code",
      "execution_count": 28,
      "metadata": {
        "colab": {
          "base_uri": "https://localhost:8080/",
          "height": 527
        },
        "id": "5SvP6xuMIqIq",
        "outputId": "d173e509-eb53-45b1-852c-2e68af732e16"
      },
      "outputs": [
        {
          "name": "stderr",
          "output_type": "stream",
          "text": [
            "C:\\Users\\Acer\\AppData\\Local\\Temp\\ipykernel_14484\\1649018674.py:9: UserWarning: *c* argument looks like a single numeric RGB or RGBA sequence, which should be avoided as value-mapping will have precedence in case its length matches with *x* & *y*.  Please use the *color* keyword-argument or provide a 2D array with a single row if you intend to specify the same RGB or RGBA value for all points.\n",
            "  plt.scatter(x_set[y_set == j, 0], x_set[y_set == j, 1], c = ListedColormap(('red','green'))(i), label = j)\n"
          ]
        },
        {
          "data": {
            "image/png": "[encoded data removed]",
            "text/plain": [
              "<Figure size 640x480 with 1 Axes>"
            ]
          },
          "metadata": {},
          "output_type": "display_data"
        }
      ],
      "source": [
        "from matplotlib.colors import ListedColormap # Import library matplotlib.colors untuk memanggil function ListedColorMap\n",
        "x_set, y_set = x_test, y_test \n",
        "x1, x2 = np.meshgrid(np.arange(start = x_set[:, 0].min()-1, stop = x_set[:, 0].max()+1, step = 0.01),\n",
        "                     np.arange(start = x_set[:, 1].min()-1, stop = x_set[:, 0].max()+1, step = 0.01))\n",
        "plt.contourf(x1, x2, classifier.predict(np.array([x1.ravel(), x2.ravel()]).T).reshape(x1.shape), alpha = 0.75, cmap = ListedColormap(('red', 'green')))\n",
        "plt.xlim(x1.min(), x1.max())\n",
        "plt.ylim(x2.min(), x2.max())\n",
        "for i, j in enumerate (np.unique(y_set)):\n",
        "    plt.scatter(x_set[y_set == j, 0], x_set[y_set == j, 1], c = ListedColormap(('red','green'))(i), label = j)\n",
        "plt.title('Klasifikasi Data Testing dengan K-Nearest Neighbors')\n",
        "plt.xlabel('Age')\n",
        "plt.ylabel('Estimated Salary')\n",
        "plt.legend()\n",
        "plt.show()"
      ]
    },
    {
      "cell_type": "markdown",
      "metadata": {
        "id": "IxG8UGCYIqIr"
      },
      "source": [
        "1. Import library matplotlib.colors untuk memanggil function ListedColorMap\n",
        "2. Variable x_set : Menampung value x_test\n",
        "3. Variable y_set : Menampung value y_test\n",
        "4. x1 : Variable menampung value untuk indeks kolom ke-2 yaitu 'Age'\n",
        "5. x2 : Variabel menampung value untuk indeks kolom ke-3 yaitu 'Estimated Salary'\n",
        "6. plt.xlim(x1.min(), x1.max()) -> Mengambil seluruh data yang terdapat pada kolom 'Age'\n",
        "7. plt.ylim(x2.min(), x2.max()) -> Mengambil seluruh data yang terdapat pada kolom 'Estimated Salary'\n",
        "8. plt.show() -> Menampilkan data sebaran menggunakan visualisasi grafik"
      ]
    }
  ],
  "metadata": {
    "colab": {
      "include_colab_link": true,
      "provenance": []
    },
    "kernelspec": {
      "display_name": "Python 3",
      "name": "python3"
    },
    "language_info": {
      "codemirror_mode": {
        "name": "ipython",
        "version": 3
      },
      "file_extension": ".py",
      "mimetype": "text/x-python",
      "name": "python",
      "nbconvert_exporter": "python",
      "pygments_lexer": "ipython3",
      "version": "3.11.3"
    }
  },
  "nbformat": 4,
  "nbformat_minor": 0
}
