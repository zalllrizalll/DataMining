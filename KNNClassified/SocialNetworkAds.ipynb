{
  "cells": [
    {
      "cell_type": "markdown",
      "metadata": {
        "colab_type": "text",
        "id": "view-in-github"
      },
      "source": [
        "<a href=\"https://colab.research.google.com/github/zalllrizalll/DataMining/blob/main/KNNClassified_SocialNetworkAds.ipynb\" target=\"_parent\"><img src=\"https://colab.research.google.com/assets/colab-badge.svg\" alt=\"Open In Colab\"/></a>"
      ]
    },
    {
      "cell_type": "markdown",
      "metadata": {
        "id": "BBRycJQToXqm"
      },
      "source": [
        "Import beberapa library yang dibutuhkan"
      ]
    },
    {
      "cell_type": "code",
      "execution_count": null,
      "metadata": {
        "id": "I3QslfWYmoc8"
      },
      "outputs": [],
      "source": [
        "import numpy as np # Komputasi Matrix\n",
        "import matplotlib.pyplot as plt # Representasi data ke dalam bentuk grafik\n",
        "import pandas as pd # Mengambil atau mengimport data dari luar seperti file.csv"
      ]
    },
    {
      "cell_type": "markdown",
      "metadata": {
        "id": "C9-dyIv1poBi"
      },
      "source": [
        "Import file csv"
      ]
    },
    {
      "cell_type": "code",
      "execution_count": 3,
      "metadata": {
        "id": "2IGCzcmHpZ2c"
      },
      "outputs": [],
      "source": [
        "dataset = pd.read_csv('Social Network Ads.csv') # Function read_csv() -> membaca file csv"
      ]
    },
    {
      "cell_type": "markdown",
      "metadata": {
        "id": "QwRc-LVtpzsQ"
      },
      "source": [
        "Uji Coba Menampilkan 5 Data Teratas"
      ]
    },
    {
      "cell_type": "code",
      "execution_count": 4,
      "metadata": {
        "colab": {
          "base_uri": "https://localhost:8080/",
          "height": 206
        },
        "id": "AmJro3Ikp76W",
        "outputId": "2aaafbe5-d861-48f6-d2a8-af8264879d2b"
      },
      "outputs": [
        {
          "data": {
            "text/html": [
              "\n",
              "  <div id=\"df-d37ab28a-8e47-4932-aa04-0c0d1dd6ef7d\">\n",
              "    <div class=\"colab-df-container\">\n",
              "      <div>\n",
              "<style scoped>\n",
              "    .dataframe tbody tr th:only-of-type {\n",
              "        vertical-align: middle;\n",
              "    }\n",
              "\n",
              "    .dataframe tbody tr th {\n",
              "        vertical-align: top;\n",
              "    }\n",
              "\n",
              "    .dataframe thead th {\n",
              "        text-align: right;\n",
              "    }\n",
              "</style>\n",
              "<table border=\"1\" class=\"dataframe\">\n",
              "  <thead>\n",
              "    <tr style=\"text-align: right;\">\n",
              "      <th></th>\n",
              "      <th>User ID</th>\n",
              "      <th>Gender</th>\n",
              "      <th>Age</th>\n",
              "      <th>EstimatedSalary</th>\n",
              "      <th>Purchased</th>\n",
              "    </tr>\n",
              "  </thead>\n",
              "  <tbody>\n",
              "    <tr>\n",
              "      <th>0</th>\n",
              "      <td>15624510</td>\n",
              "      <td>Male</td>\n",
              "      <td>19</td>\n",
              "      <td>19000</td>\n",
              "      <td>0</td>\n",
              "    </tr>\n",
              "    <tr>\n",
              "      <th>1</th>\n",
              "      <td>15810944</td>\n",
              "      <td>Male</td>\n",
              "      <td>35</td>\n",
              "      <td>20000</td>\n",
              "      <td>0</td>\n",
              "    </tr>\n",
              "    <tr>\n",
              "      <th>2</th>\n",
              "      <td>15668575</td>\n",
              "      <td>Female</td>\n",
              "      <td>26</td>\n",
              "      <td>43000</td>\n",
              "      <td>0</td>\n",
              "    </tr>\n",
              "    <tr>\n",
              "      <th>3</th>\n",
              "      <td>15603246</td>\n",
              "      <td>Female</td>\n",
              "      <td>27</td>\n",
              "      <td>57000</td>\n",
              "      <td>0</td>\n",
              "    </tr>\n",
              "    <tr>\n",
              "      <th>4</th>\n",
              "      <td>15804002</td>\n",
              "      <td>Male</td>\n",
              "      <td>19</td>\n",
              "      <td>76000</td>\n",
              "      <td>0</td>\n",
              "    </tr>\n",
              "  </tbody>\n",
              "</table>\n",
              "</div>\n",
              "      <button class=\"colab-df-convert\" onclick=\"convertToInteractive('df-d37ab28a-8e47-4932-aa04-0c0d1dd6ef7d')\"\n",
              "              title=\"Convert this dataframe to an interactive table.\"\n",
              "              style=\"display:none;\">\n",
              "        \n",
              "  <svg xmlns=\"http://www.w3.org/2000/svg\" height=\"24px\"viewBox=\"0 0 24 24\"\n",
              "       width=\"24px\">\n",
              "    <path d=\"M0 0h24v24H0V0z\" fill=\"none\"/>\n",
              "    <path d=\"M18.56 5.44l.94 2.06.94-2.06 2.06-.94-2.06-.94-.94-2.06-.94 2.06-2.06.94zm-11 1L8.5 8.5l.94-2.06 2.06-.94-2.06-.94L8.5 2.5l-.94 2.06-2.06.94zm10 10l.94 2.06.94-2.06 2.06-.94-2.06-.94-.94-2.06-.94 2.06-2.06.94z\"/><path d=\"M17.41 7.96l-1.37-1.37c-.4-.4-.92-.59-1.43-.59-.52 0-1.04.2-1.43.59L10.3 9.45l-7.72 7.72c-.78.78-.78 2.05 0 2.83L4 21.41c.39.39.9.59 1.41.59.51 0 1.02-.2 1.41-.59l7.78-7.78 2.81-2.81c.8-.78.8-2.07 0-2.86zM5.41 20L4 18.59l7.72-7.72 1.47 1.35L5.41 20z\"/>\n",
              "  </svg>\n",
              "      </button>\n",
              "      \n",
              "  <style>\n",
              "    .colab-df-container {\n",
              "      display:flex;\n",
              "      flex-wrap:wrap;\n",
              "      gap: 12px;\n",
              "    }\n",
              "\n",
              "    .colab-df-convert {\n",
              "      background-color: #E8F0FE;\n",
              "      border: none;\n",
              "      border-radius: 50%;\n",
              "      cursor: pointer;\n",
              "      display: none;\n",
              "      fill: #1967D2;\n",
              "      height: 32px;\n",
              "      padding: 0 0 0 0;\n",
              "      width: 32px;\n",
              "    }\n",
              "\n",
              "    .colab-df-convert:hover {\n",
              "      background-color: #E2EBFA;\n",
              "      box-shadow: 0px 1px 2px rgba(60, 64, 67, 0.3), 0px 1px 3px 1px rgba(60, 64, 67, 0.15);\n",
              "      fill: #174EA6;\n",
              "    }\n",
              "\n",
              "    [theme=dark] .colab-df-convert {\n",
              "      background-color: #3B4455;\n",
              "      fill: #D2E3FC;\n",
              "    }\n",
              "\n",
              "    [theme=dark] .colab-df-convert:hover {\n",
              "      background-color: #434B5C;\n",
              "      box-shadow: 0px 1px 3px 1px rgba(0, 0, 0, 0.15);\n",
              "      filter: drop-shadow(0px 1px 2px rgba(0, 0, 0, 0.3));\n",
              "      fill: #FFFFFF;\n",
              "    }\n",
              "  </style>\n",
              "\n",
              "      <script>\n",
              "        const buttonEl =\n",
              "          document.querySelector('#df-d37ab28a-8e47-4932-aa04-0c0d1dd6ef7d button.colab-df-convert');\n",
              "        buttonEl.style.display =\n",
              "          google.colab.kernel.accessAllowed ? 'block' : 'none';\n",
              "\n",
              "        async function convertToInteractive(key) {\n",
              "          const element = document.querySelector('#df-d37ab28a-8e47-4932-aa04-0c0d1dd6ef7d');\n",
              "          const dataTable =\n",
              "            await google.colab.kernel.invokeFunction('convertToInteractive',\n",
              "                                                     [key], {});\n",
              "          if (!dataTable) return;\n",
              "\n",
              "          const docLinkHtml = 'Like what you see? Visit the ' +\n",
              "            '<a target=\"_blank\" href=https://colab.research.google.com/notebooks/data_table.ipynb>data table notebook</a>'\n",
              "            + ' to learn more about interactive tables.';\n",
              "          element.innerHTML = '';\n",
              "          dataTable['output_type'] = 'display_data';\n",
              "          await google.colab.output.renderOutput(dataTable, element);\n",
              "          const docLink = document.createElement('div');\n",
              "          docLink.innerHTML = docLinkHtml;\n",
              "          element.appendChild(docLink);\n",
              "        }\n",
              "      </script>\n",
              "    </div>\n",
              "  </div>\n",
              "  "
            ],
            "text/plain": [
              "    User ID  Gender  Age  EstimatedSalary  Purchased\n",
              "0  15624510    Male   19            19000          0\n",
              "1  15810944    Male   35            20000          0\n",
              "2  15668575  Female   26            43000          0\n",
              "3  15603246  Female   27            57000          0\n",
              "4  15804002    Male   19            76000          0"
            ]
          },
          "execution_count": 4,
          "metadata": {},
          "output_type": "execute_result"
        }
      ],
      "source": [
        "dataset.head() # Function head() -> menampilkan 5 data teratas pada sebuah dataset"
      ]
    },
    {
      "cell_type": "code",
      "execution_count": 5,
      "metadata": {
        "id": "4ZeTg3P3qHlA"
      },
      "outputs": [],
      "source": [
        "x = dataset.iloc[:, [2,3]].values # variable x -> representasi dari atribut dataset kolom indeks 2 dan 3\n",
        "y = dataset.iloc[:, -1].values # variable y -> representasi dari sebuah label pada dataset"
      ]
    },
    {
      "cell_type": "markdown",
      "metadata": {
        "id": "kVgeXpVht86P"
      },
      "source": [
        "\n",
        "\n",
        "*   : (Titik Dua) -> representasi ambil nilai semua data\n",
        "*   [2,3] -> representasi atribut kolom indeks 2 dan 3\n",
        "*   [-1] -> representasi label atau kolom indeks terakhir\n",
        "\n",
        "\n",
        "\n"
      ]
    },
    {
      "cell_type": "code",
      "execution_count": null,
      "metadata": {
        "id": "c-WJoMw_ukm0"
      },
      "outputs": [],
      "source": [
        "print(x) # Menampilkan semua data pada atribut kolom indeks 2 dan 3"
      ]
    },
    {
      "cell_type": "code",
      "execution_count": null,
      "metadata": {
        "id": "RFuXPxdDu95F"
      },
      "outputs": [],
      "source": [
        "print(y) # Menampilkan semua data label atau kolom indeks terakhir pada dataset"
      ]
    },
    {
      "cell_type": "markdown",
      "metadata": {
        "id": "evzNmf3cvb_t"
      },
      "source": [
        "Membagi sebuah Dataset menjadi 2 bagian : Data Training dan Data Testing"
      ]
    },
    {
      "cell_type": "markdown",
      "metadata": {
        "id": "3pT17ds1vyR9"
      },
      "source": [
        "Import train_test_split dari library sklearn.model_selection"
      ]
    },
    {
      "cell_type": "code",
      "execution_count": 9,
      "metadata": {
        "id": "CfMvO4__vQLA"
      },
      "outputs": [],
      "source": [
        "from sklearn.model_selection import train_test_split\n",
        "x_train, x_test, y_train, y_test = train_test_split(x, y, test_size=0.25, random_state=0)"
      ]
    },
    {
      "cell_type": "markdown",
      "metadata": {
        "id": "RCIq4BlawhcN"
      },
      "source": [
        "x_train, x_test, y_train, y_test -> Menyiapkan 4 buah variable untuk menampung tiap masing-masing data training dan data testing"
      ]
    },
    {
      "cell_type": "markdown",
      "metadata": {
        "id": "RiYxxS-Xws4N"
      },
      "source": [
        "test_size : Membagi sebagian data pada dataset yang ada untuk kebutuhan data testing"
      ]
    },
    {
      "cell_type": "markdown",
      "metadata": {
        "id": "nKwOqFgox--E"
      },
      "source": [
        "Data Training Atribut Kolom Indeks 2 dan 3"
      ]
    },
    {
      "cell_type": "code",
      "execution_count": null,
      "metadata": {
        "id": "aukZpStgxIBS"
      },
      "outputs": [],
      "source": [
        "print(x_train) # Menampilkan 300 data training atribut kolom indeks ke 2 dan 3 pada dataset"
      ]
    },
    {
      "cell_type": "markdown",
      "metadata": {
        "id": "nyyvWEuLyB4Z"
      },
      "source": [
        "Data Testing Atribut Kolom Indeks 2 dan 3"
      ]
    },
    {
      "cell_type": "code",
      "execution_count": null,
      "metadata": {
        "id": "rwbiiQtExXTK"
      },
      "outputs": [],
      "source": [
        "print(x_test) # Menampilkan 0.25 data atribut kolom indeks ke 2 dan 3 dataset untuk dijadikan data testing "
      ]
    },
    {
      "cell_type": "markdown",
      "metadata": {
        "id": "TQhNu7Ak3ce6"
      },
      "source": [
        "Data Training Atribut Kolom Indeks Terakhir yaitu label"
      ]
    },
    {
      "cell_type": "code",
      "execution_count": null,
      "metadata": {
        "id": "JsES_W04yLGf"
      },
      "outputs": [],
      "source": [
        "print(y_train) # Menampilkan 300 data training atribut kolom indeks terakhir pada dataset yaitu atribut label"
      ]
    },
    {
      "cell_type": "markdown",
      "metadata": {
        "id": "nD7NU0543hC9"
      },
      "source": [
        "Data Testing Atribut Kolom Indeks Terakhir yaitu label"
      ]
    },
    {
      "cell_type": "code",
      "execution_count": null,
      "metadata": {
        "id": "dY05LZvxyOCW"
      },
      "outputs": [],
      "source": [
        "print(y_test) # Menampilkan 0.25 data atribut kolom indeks terakhir pada dataset yaitu atribut label untuk dijadikan data testing"
      ]
    },
    {
      "cell_type": "markdown",
      "metadata": {
        "id": "SJo3gdOVy08g"
      },
      "source": [
        "Menghitung banyaknya data pada tiap masing - masing data training dan data testing"
      ]
    },
    {
      "cell_type": "code",
      "execution_count": 14,
      "metadata": {
        "colab": {
          "base_uri": "https://localhost:8080/"
        },
        "id": "DZvfsfpcy_SK",
        "outputId": "dd5250e4-279d-4379-a416-8744c8b97e14"
      },
      "outputs": [
        {
          "data": {
            "text/plain": [
              "300"
            ]
          },
          "execution_count": 14,
          "metadata": {},
          "output_type": "execute_result"
        }
      ],
      "source": [
        "len(x_train)"
      ]
    },
    {
      "cell_type": "code",
      "execution_count": 15,
      "metadata": {
        "colab": {
          "base_uri": "https://localhost:8080/"
        },
        "id": "nNrgUiuDzFht",
        "outputId": "db4a79a9-a9ef-4f2b-945a-381e30ffc1a2"
      },
      "outputs": [
        {
          "data": {
            "text/plain": [
              "100"
            ]
          },
          "execution_count": 15,
          "metadata": {},
          "output_type": "execute_result"
        }
      ],
      "source": [
        "len(x_test)"
      ]
    },
    {
      "cell_type": "code",
      "execution_count": 16,
      "metadata": {
        "colab": {
          "base_uri": "https://localhost:8080/"
        },
        "id": "Q_ChwPgdzHTh",
        "outputId": "65faa9ac-35ec-473e-e1a2-fb6ddbd3470d"
      },
      "outputs": [
        {
          "data": {
            "text/plain": [
              "300"
            ]
          },
          "execution_count": 16,
          "metadata": {},
          "output_type": "execute_result"
        }
      ],
      "source": [
        "len(y_train)"
      ]
    },
    {
      "cell_type": "code",
      "execution_count": 17,
      "metadata": {
        "colab": {
          "base_uri": "https://localhost:8080/"
        },
        "id": "LCCOFsouzJox",
        "outputId": "8fb47ffb-75f9-4a6f-8279-869117c7f444"
      },
      "outputs": [
        {
          "data": {
            "text/plain": [
              "100"
            ]
          },
          "execution_count": 17,
          "metadata": {},
          "output_type": "execute_result"
        }
      ],
      "source": [
        "len(y_test)"
      ]
    },
    {
      "cell_type": "markdown",
      "metadata": {
        "id": "0tYALJnLzceL"
      },
      "source": [
        "Setelah membagi dataset menjadi Data Training dan Data Testing hal yang perlu dilakukan selanjutnya yaitu :"
      ]
    },
    {
      "cell_type": "markdown",
      "metadata": {
        "id": "jHBcFITQzqGi"
      },
      "source": [
        "Scalling Data -> diperlukan agar jarak antar data tidak terlalu jauh"
      ]
    },
    {
      "cell_type": "markdown",
      "metadata": {
        "id": "lrjlgJsiz_sN"
      },
      "source": [
        "Data yang perlu dilakukan Scalling Data yaitu atribut kolom indeks ke-2 dan ke-3. Atribut pada kolom label tidak perlu dilakukan Scalling Data karena nilai nya hanya berupa 0 dan 1"
      ]
    },
    {
      "cell_type": "code",
      "execution_count": 18,
      "metadata": {
        "id": "Z4nTszkc0dcB"
      },
      "outputs": [],
      "source": [
        "from sklearn.preprocessing import StandardScaler\n",
        "sc = StandardScaler() # variable sc -> menampung function StandardScaler()\n",
        "x_train = sc.fit_transform(x_train)\n",
        "x_test = sc.transform(x_test)"
      ]
    },
    {
      "cell_type": "code",
      "execution_count": null,
      "metadata": {
        "id": "OXiE9kHj06ri"
      },
      "outputs": [],
      "source": [
        "print(x_train) # Menampilan data training yang telah dilakukan Scalling Data pada atribut kolom indeks ke-2 dan ke-3"
      ]
    },
    {
      "cell_type": "code",
      "execution_count": null,
      "metadata": {
        "id": "RgQAWl-B08qi"
      },
      "outputs": [],
      "source": [
        "print(x_test)  # Menampilan data testing yang telah dilakukan Scalling Data pada atribut kolom indeks ke-2 dan ke-3"
      ]
    },
    {
      "cell_type": "markdown",
      "metadata": {
        "id": "iY5-OZxF1ex9"
      },
      "source": [
        "Memanggil Function KNN"
      ]
    },
    {
      "cell_type": "code",
      "execution_count": 21,
      "metadata": {
        "colab": {
          "base_uri": "https://localhost:8080/",
          "height": 74
        },
        "id": "1sRPurJc1iAP",
        "outputId": "8e286bc2-8cf1-44c4-a72a-37960cb67ded"
      },
      "outputs": [
        {
          "data": {
            "text/html": [
              "<style>#sk-container-id-1 {color: black;background-color: white;}#sk-container-id-1 pre{padding: 0;}#sk-container-id-1 div.sk-toggleable {background-color: white;}#sk-container-id-1 label.sk-toggleable__label {cursor: pointer;display: block;width: 100%;margin-bottom: 0;padding: 0.3em;box-sizing: border-box;text-align: center;}#sk-container-id-1 label.sk-toggleable__label-arrow:before {content: \"▸\";float: left;margin-right: 0.25em;color: #696969;}#sk-container-id-1 label.sk-toggleable__label-arrow:hover:before {color: black;}#sk-container-id-1 div.sk-estimator:hover label.sk-toggleable__label-arrow:before {color: black;}#sk-container-id-1 div.sk-toggleable__content {max-height: 0;max-width: 0;overflow: hidden;text-align: left;background-color: #f0f8ff;}#sk-container-id-1 div.sk-toggleable__content pre {margin: 0.2em;color: black;border-radius: 0.25em;background-color: #f0f8ff;}#sk-container-id-1 input.sk-toggleable__control:checked~div.sk-toggleable__content {max-height: 200px;max-width: 100%;overflow: auto;}#sk-container-id-1 input.sk-toggleable__control:checked~label.sk-toggleable__label-arrow:before {content: \"▾\";}#sk-container-id-1 div.sk-estimator input.sk-toggleable__control:checked~label.sk-toggleable__label {background-color: #d4ebff;}#sk-container-id-1 div.sk-label input.sk-toggleable__control:checked~label.sk-toggleable__label {background-color: #d4ebff;}#sk-container-id-1 input.sk-hidden--visually {border: 0;clip: rect(1px 1px 1px 1px);clip: rect(1px, 1px, 1px, 1px);height: 1px;margin: -1px;overflow: hidden;padding: 0;position: absolute;width: 1px;}#sk-container-id-1 div.sk-estimator {font-family: monospace;background-color: #f0f8ff;border: 1px dotted black;border-radius: 0.25em;box-sizing: border-box;margin-bottom: 0.5em;}#sk-container-id-1 div.sk-estimator:hover {background-color: #d4ebff;}#sk-container-id-1 div.sk-parallel-item::after {content: \"\";width: 100%;border-bottom: 1px solid gray;flex-grow: 1;}#sk-container-id-1 div.sk-label:hover label.sk-toggleable__label {background-color: #d4ebff;}#sk-container-id-1 div.sk-serial::before {content: \"\";position: absolute;border-left: 1px solid gray;box-sizing: border-box;top: 0;bottom: 0;left: 50%;z-index: 0;}#sk-container-id-1 div.sk-serial {display: flex;flex-direction: column;align-items: center;background-color: white;padding-right: 0.2em;padding-left: 0.2em;position: relative;}#sk-container-id-1 div.sk-item {position: relative;z-index: 1;}#sk-container-id-1 div.sk-parallel {display: flex;align-items: stretch;justify-content: center;background-color: white;position: relative;}#sk-container-id-1 div.sk-item::before, #sk-container-id-1 div.sk-parallel-item::before {content: \"\";position: absolute;border-left: 1px solid gray;box-sizing: border-box;top: 0;bottom: 0;left: 50%;z-index: -1;}#sk-container-id-1 div.sk-parallel-item {display: flex;flex-direction: column;z-index: 1;position: relative;background-color: white;}#sk-container-id-1 div.sk-parallel-item:first-child::after {align-self: flex-end;width: 50%;}#sk-container-id-1 div.sk-parallel-item:last-child::after {align-self: flex-start;width: 50%;}#sk-container-id-1 div.sk-parallel-item:only-child::after {width: 0;}#sk-container-id-1 div.sk-dashed-wrapped {border: 1px dashed gray;margin: 0 0.4em 0.5em 0.4em;box-sizing: border-box;padding-bottom: 0.4em;background-color: white;}#sk-container-id-1 div.sk-label label {font-family: monospace;font-weight: bold;display: inline-block;line-height: 1.2em;}#sk-container-id-1 div.sk-label-container {text-align: center;}#sk-container-id-1 div.sk-container {/* jupyter's `normalize.less` sets `[hidden] { display: none; }` but bootstrap.min.css set `[hidden] { display: none !important; }` so we also need the `!important` here to be able to override the default hidden behavior on the sphinx rendered scikit-learn.org. See: https://github.com/scikit-learn/scikit-learn/issues/21755 */display: inline-block !important;position: relative;}#sk-container-id-1 div.sk-text-repr-fallback {display: none;}</style><div id=\"sk-container-id-1\" class=\"sk-top-container\"><div class=\"sk-text-repr-fallback\"><pre>KNeighborsClassifier()</pre><b>In a Jupyter environment, please rerun this cell to show the HTML representation or trust the notebook. <br />On GitHub, the HTML representation is unable to render, please try loading this page with nbviewer.org.</b></div><div class=\"sk-container\" hidden><div class=\"sk-item\"><div class=\"sk-estimator sk-toggleable\"><input class=\"sk-toggleable__control sk-hidden--visually\" id=\"sk-estimator-id-1\" type=\"checkbox\" checked><label for=\"sk-estimator-id-1\" class=\"sk-toggleable__label sk-toggleable__label-arrow\">KNeighborsClassifier</label><div class=\"sk-toggleable__content\"><pre>KNeighborsClassifier()</pre></div></div></div></div></div>"
            ],
            "text/plain": [
              "KNeighborsClassifier()"
            ]
          },
          "execution_count": 21,
          "metadata": {},
          "output_type": "execute_result"
        }
      ],
      "source": [
        "from sklearn.neighbors import KNeighborsClassifier # Import library sklearn.neighbors untuk memanggil function KNeighborsClassifier\n",
        "classifier = KNeighborsClassifier(n_neighbors=5, metric='minkowski', p=2)\n",
        "classifier.fit(x_train, y_train)"
      ]
    },
    {
      "cell_type": "markdown",
      "metadata": {
        "id": "cuXPFtBQ2Pmn"
      },
      "source": [
        "*   KNeighborsClassifier -> Function Algoritma KNN\n",
        "*   n_neighbors : banyaknya data tetangga terdekat\n",
        "*   metric = 'minkowski' -> algoritma yang disarankan untuk mencari data yang terdekat\n",
        "\n",
        "\n",
        "\n",
        "\n"
      ]
    },
    {
      "cell_type": "markdown",
      "metadata": {
        "id": "0DrWLljp3BMZ"
      },
      "source": [
        "Menentukan Prediksi dari Data Testing"
      ]
    },
    {
      "cell_type": "code",
      "execution_count": 22,
      "metadata": {
        "id": "GFuF-OKC3Atb"
      },
      "outputs": [],
      "source": [
        "y_pred = classifier.predict(x_test)"
      ]
    },
    {
      "cell_type": "markdown",
      "metadata": {
        "id": "yrrFDfe23nVf"
      },
      "source": [
        "Evaluasi dan Validasi"
      ]
    },
    {
      "cell_type": "code",
      "execution_count": 26,
      "metadata": {
        "colab": {
          "base_uri": "https://localhost:8080/"
        },
        "id": "w2JSk4_g3p1n",
        "outputId": "606748a2-12be-411b-a105-fdc1361a03f8"
      },
      "outputs": [
        {
          "name": "stdout",
          "output_type": "stream",
          "text": [
            "[[64  4]\n",
            " [ 3 29]]\n"
          ]
        }
      ],
      "source": [
        "from sklearn.metrics import confusion_matrix # Import library sklearn.metrics untuk memanggil function confusion_matrix\n",
        "cm = confusion_matrix(y_test, y_pred) # variable cm -> menampung perhitungan matrix untuk y_test dan y_pred\n",
        "print(cm)"
      ]
    },
    {
      "cell_type": "markdown",
      "metadata": {
        "id": "cg6sQltj48H4"
      },
      "source": [
        "*   Matrix[0,0] -> Data yang diprediksi benar dan hasilnya memang benar\n",
        "*   Matrix[0,1] -> Data yang diprediksi kurang tepat\n",
        "*   Matrix[1,0] -> Data yang diprediksi kurang tepat\n",
        "*   Matrix[1,1] -> Data yang diprediksi salah dan hasilnya memang salah\n",
        "\n",
        "\n",
        "\n"
      ]
    },
    {
      "cell_type": "markdown",
      "metadata": {
        "id": "V3MEHVLJ6fs5"
      },
      "source": [
        "Menampilkan Akurasi yang Lebih Detail"
      ]
    },
    {
      "cell_type": "code",
      "execution_count": null,
      "metadata": {
        "id": "jucBr7k06lQB"
      },
      "outputs": [],
      "source": [
        "from sklearn.metrics import classification_report # Import library sklearn.metrics untuk memanggil function classification_report\n",
        "akurasi = classification_report(y_test, y_pred) # Variable akurasi -> menampung perhitungan data classification_report()\n",
        "print(akurasi)"
      ]
    },
    {
      "cell_type": "code",
      "execution_count": null,
      "metadata": {
        "id": "kL1k6ICs7o86"
      },
      "outputs": [],
      "source": [
        "from sklearn.metrics import accuracy_score # Import library sklearn.metrics untuk memanggil function accuracy_score\n",
        "akurasi = accuracy_score(y_test, y_pred) # Variable akurasi -> menampung perhitungan data accuracy_score\n",
        "print(\"Tingkat akurasi : %d persen\"%(akurasi * 100))"
      ]
    },
    {
      "attachments": {},
      "cell_type": "markdown",
      "metadata": {
        "id": "qztbQ-Nu9LH4"
      },
      "source": [
        "Visualisasi Data Training menggunakan Grafik"
      ]
    },
    {
      "cell_type": "code",
      "execution_count": 28,
      "metadata": {
        "colab": {
          "base_uri": "https://localhost:8080/",
          "height": 527
        },
        "id": "s6b7DnK09Kpa",
        "outputId": "78d093e3-8a18-4d85-80e7-6e2bea623481"
      },
      "outputs": [
        {
          "name": "stderr",
          "output_type": "stream",
          "text": [
            "<ipython-input-28-a5511109b048>:9: UserWarning: *c* argument looks like a single numeric RGB or RGBA sequence, which should be avoided as value-mapping will have precedence in case its length matches with *x* & *y*.  Please use the *color* keyword-argument or provide a 2D array with a single row if you intend to specify the same RGB or RGBA value for all points.\n",
            "  plt.scatter(x_set[y_set == j, 0], x_set[y_set == j, 1], c = ListedColormap(('red','green'))(i), label = j)\n"
          ]
        },
        {
          "data": {
            "image/png": "[encoded data removed]",
            "text/plain": [
              "<Figure size 640x480 with 1 Axes>"
            ]
          },
          "metadata": {},
          "output_type": "display_data"
        }
      ],
      "source": [
        "from matplotlib.colors import ListedColormap # Import library matplotlib.colors untuk memanggil function ListedColorMap\n",
        "x_set, y_set = x_train, y_train \n",
        "x1, x2 = np.meshgrid(np.arange(start = x_set[:, 0].min()-1, stop = x_set[:, 0].max()+1, step = 0.01),\n",
        "                     np.arange(start = x_set[:, 1].min()-1, stop = x_set[:, 0].max()+1, step = 0.01))\n",
        "plt.contourf(x1, x2, classifier.predict(np.array([x1.ravel(), x2.ravel()]).T).reshape(x1.shape), alpha = 0.75, cmap = ListedColormap(('red', 'green')))\n",
        "plt.xlim(x1.min(), x1.max())\n",
        "plt.ylim(x2.min(), x2.max())\n",
        "for i, j in enumerate (np.unique(y_set)):\n",
        "    plt.scatter(x_set[y_set == j, 0], x_set[y_set == j, 1], c = ListedColormap(('red','green'))(i), label = j)\n",
        "plt.title('Klasifikasi Data Training dengan K-Nearest Neighbors')\n",
        "plt.xlabel('Age')\n",
        "plt.ylabel('Estimated Salary')\n",
        "plt.legend()\n",
        "plt.show()"
      ]
    },
    {
      "cell_type": "markdown",
      "metadata": {
        "id": "xjcqpwD_Bqi5"
      },
      "source": [
        "1. Import library matplotlib.colors untuk memanggil function ListedColorMap\n",
        "2. Variable x_set : Menampung value x_train\n",
        "3. Variable y_set : Menampung value y_train\n",
        "4. x1 : Variable menampung value untuk indeks kolom ke-2 yaitu 'Age'\n",
        "5. x2 : Variabel menampung value untuk indeks kolom ke-3 yaitu 'Estimated Salary'\n",
        "6. plt.xlim(x1.min(), x1.max()) -> Mengambil seluruh data yang terdapat pada kolom 'Age'\n",
        "7. plt.ylim(x2.min(), x2.max()) -> Mengambil seluruh data yang terdapat pada kolom 'Estimated Salary'\n",
        "8. plt.show() -> Menampilkan data sebaran menggunakan visualisasi grafik\n",
        "\n"
      ]
    },
    {
      "attachments": {},
      "cell_type": "markdown",
      "metadata": {},
      "source": [
        "Visualisasi Data Testing menggunakan Grafik"
      ]
    },
    {
      "cell_type": "code",
      "execution_count": null,
      "metadata": {},
      "outputs": [],
      "source": [
        "from matplotlib.colors import ListedColormap # Import library matplotlib.colors untuk memanggil function ListedColorMap\n",
        "x_set, y_set = x_test, y_test \n",
        "x1, x2 = np.meshgrid(np.arange(start = x_set[:, 0].min()-1, stop = x_set[:, 0].max()+1, step = 0.01),\n",
        "                     np.arange(start = x_set[:, 1].min()-1, stop = x_set[:, 0].max()+1, step = 0.01))\n",
        "plt.contourf(x1, x2, classifier.predict(np.array([x1.ravel(), x2.ravel()]).T).reshape(x1.shape), alpha = 0.75, cmap = ListedColormap(('red', 'green')))\n",
        "plt.xlim(x1.min(), x1.max())\n",
        "plt.ylim(x2.min(), x2.max())\n",
        "for i, j in enumerate (np.unique(y_set)):\n",
        "    plt.scatter(x_set[y_set == j, 0], x_set[y_set == j, 1], c = ListedColormap(('red','green'))(i), label = j)\n",
        "plt.title('Klasifikasi Data Testing dengan K-Nearest Neighbors')\n",
        "plt.xlabel('Age')\n",
        "plt.ylabel('Estimated Salary')\n",
        "plt.legend()\n",
        "plt.show()"
      ]
    },
    {
      "attachments": {},
      "cell_type": "markdown",
      "metadata": {},
      "source": [
        "1. Import library matplotlib.colors untuk memanggil function ListedColorMap\n",
        "2. Variable x_set : Menampung value x_test\n",
        "3. Variable y_set : Menampung value y_test\n",
        "4. x1 : Variable menampung value untuk indeks kolom ke-2 yaitu 'Age'\n",
        "5. x2 : Variabel menampung value untuk indeks kolom ke-3 yaitu 'Estimated Salary'\n",
        "6. plt.xlim(x1.min(), x1.max()) -> Mengambil seluruh data yang terdapat pada kolom 'Age'\n",
        "7. plt.ylim(x2.min(), x2.max()) -> Mengambil seluruh data yang terdapat pada kolom 'Estimated Salary'\n",
        "8. plt.show() -> Menampilkan data sebaran menggunakan visualisasi grafik"
      ]
    }
  ],
  "metadata": {
    "colab": {
      "authorship_tag": "ABX9TyNrlea73UUA87lxfbbeAlW9",
      "include_colab_link": true,
      "provenance": []
    },
    "kernelspec": {
      "display_name": "Python 3",
      "name": "python3"
    },
    "language_info": {
      "codemirror_mode": {
        "name": "ipython",
        "version": 3
      },
      "file_extension": ".py",
      "mimetype": "text/x-python",
      "name": "python",
      "nbconvert_exporter": "python",
      "pygments_lexer": "ipython3",
      "version": "3.11.3"
    }
  },
  "nbformat": 4,
  "nbformat_minor": 0
}
